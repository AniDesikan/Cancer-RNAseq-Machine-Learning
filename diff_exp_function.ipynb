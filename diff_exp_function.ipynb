{
 "cells": [
  {
   "cell_type": "code",
   "execution_count": 1,
   "id": "bfd4f310",
   "metadata": {},
   "outputs": [],
   "source": [
    "# The goal of this function will be to take in normalized RNA seq datasets and then return a dataset with only genes that \n",
    "# are most important for the tissues that we are looking at.\n",
    "\n",
    "import pandas as pd\n",
    "import gzip\n",
    "import requests"
   ]
  },
  {
   "cell_type": "code",
   "execution_count": null,
   "id": "11ea710f",
   "metadata": {},
   "outputs": [],
   "source": [
    "sequencing = \"TCGA-COAD.htseq_fpkm.tsv.gz\"\n",
    "enhanced_genes = \"tissue_specificity_rna_colon_Group.tab\""
   ]
  },
  {
   "cell_type": "code",
   "execution_count": 2,
   "id": "29512b0c",
   "metadata": {},
   "outputs": [
    {
     "ename": "FileNotFoundError",
     "evalue": "[Errno 2] No such file or directory: 'TCGA-LUAD.htseq_fpkm.tsv.gz'",
     "output_type": "error",
     "traceback": [
      "\u001b[0;31m---------------------------------------------------------------------------\u001b[0m",
      "\u001b[0;31mFileNotFoundError\u001b[0m                         Traceback (most recent call last)",
      "Cell \u001b[0;32mIn[2], line 5\u001b[0m\n\u001b[1;32m      1\u001b[0m \u001b[38;5;66;03m# Code that creates the lists of genes in cancer and the list of enriched genes in each tissue to extract for testing\u001b[39;00m\n\u001b[1;32m      2\u001b[0m \u001b[38;5;66;03m# Make a list of file paths for each sequencing data\u001b[39;00m\n\u001b[1;32m      3\u001b[0m \u001b[38;5;66;03m# Specify the file path\u001b[39;00m\n\u001b[1;32m      4\u001b[0m file_path \u001b[38;5;241m=\u001b[39m \u001b[38;5;124m\"\u001b[39m\u001b[38;5;124mTCGA-LUAD.htseq_fpkm.tsv.gz\u001b[39m\u001b[38;5;124m\"\u001b[39m\n\u001b[0;32m----> 5\u001b[0m \u001b[38;5;28;01mwith\u001b[39;00m gzip\u001b[38;5;241m.\u001b[39mopen(file_path, \u001b[38;5;124m'\u001b[39m\u001b[38;5;124mrt\u001b[39m\u001b[38;5;124m'\u001b[39m) \u001b[38;5;28;01mas\u001b[39;00m file:\n\u001b[1;32m      6\u001b[0m     \u001b[38;5;66;03m# Read the TSV file into a pandas DataFrame\u001b[39;00m\n\u001b[1;32m      7\u001b[0m     df \u001b[38;5;241m=\u001b[39m pd\u001b[38;5;241m.\u001b[39mread_csv(file, sep\u001b[38;5;241m=\u001b[39m\u001b[38;5;124m'\u001b[39m\u001b[38;5;130;01m\\t\u001b[39;00m\u001b[38;5;124m'\u001b[39m)\n\u001b[1;32m      8\u001b[0m \u001b[38;5;66;03m#Make a list of file_paths for each tissue\u001b[39;00m\n",
      "File \u001b[0;32m~/anaconda3/lib/python3.11/gzip.py:58\u001b[0m, in \u001b[0;36mopen\u001b[0;34m(filename, mode, compresslevel, encoding, errors, newline)\u001b[0m\n\u001b[1;32m     56\u001b[0m gz_mode \u001b[38;5;241m=\u001b[39m mode\u001b[38;5;241m.\u001b[39mreplace(\u001b[38;5;124m\"\u001b[39m\u001b[38;5;124mt\u001b[39m\u001b[38;5;124m\"\u001b[39m, \u001b[38;5;124m\"\u001b[39m\u001b[38;5;124m\"\u001b[39m)\n\u001b[1;32m     57\u001b[0m \u001b[38;5;28;01mif\u001b[39;00m \u001b[38;5;28misinstance\u001b[39m(filename, (\u001b[38;5;28mstr\u001b[39m, \u001b[38;5;28mbytes\u001b[39m, os\u001b[38;5;241m.\u001b[39mPathLike)):\n\u001b[0;32m---> 58\u001b[0m     binary_file \u001b[38;5;241m=\u001b[39m GzipFile(filename, gz_mode, compresslevel)\n\u001b[1;32m     59\u001b[0m \u001b[38;5;28;01melif\u001b[39;00m \u001b[38;5;28mhasattr\u001b[39m(filename, \u001b[38;5;124m\"\u001b[39m\u001b[38;5;124mread\u001b[39m\u001b[38;5;124m\"\u001b[39m) \u001b[38;5;129;01mor\u001b[39;00m \u001b[38;5;28mhasattr\u001b[39m(filename, \u001b[38;5;124m\"\u001b[39m\u001b[38;5;124mwrite\u001b[39m\u001b[38;5;124m\"\u001b[39m):\n\u001b[1;32m     60\u001b[0m     binary_file \u001b[38;5;241m=\u001b[39m GzipFile(\u001b[38;5;28;01mNone\u001b[39;00m, gz_mode, compresslevel, filename)\n",
      "File \u001b[0;32m~/anaconda3/lib/python3.11/gzip.py:174\u001b[0m, in \u001b[0;36mGzipFile.__init__\u001b[0;34m(self, filename, mode, compresslevel, fileobj, mtime)\u001b[0m\n\u001b[1;32m    172\u001b[0m     mode \u001b[38;5;241m+\u001b[39m\u001b[38;5;241m=\u001b[39m \u001b[38;5;124m'\u001b[39m\u001b[38;5;124mb\u001b[39m\u001b[38;5;124m'\u001b[39m\n\u001b[1;32m    173\u001b[0m \u001b[38;5;28;01mif\u001b[39;00m fileobj \u001b[38;5;129;01mis\u001b[39;00m \u001b[38;5;28;01mNone\u001b[39;00m:\n\u001b[0;32m--> 174\u001b[0m     fileobj \u001b[38;5;241m=\u001b[39m \u001b[38;5;28mself\u001b[39m\u001b[38;5;241m.\u001b[39mmyfileobj \u001b[38;5;241m=\u001b[39m builtins\u001b[38;5;241m.\u001b[39mopen(filename, mode \u001b[38;5;129;01mor\u001b[39;00m \u001b[38;5;124m'\u001b[39m\u001b[38;5;124mrb\u001b[39m\u001b[38;5;124m'\u001b[39m)\n\u001b[1;32m    175\u001b[0m \u001b[38;5;28;01mif\u001b[39;00m filename \u001b[38;5;129;01mis\u001b[39;00m \u001b[38;5;28;01mNone\u001b[39;00m:\n\u001b[1;32m    176\u001b[0m     filename \u001b[38;5;241m=\u001b[39m \u001b[38;5;28mgetattr\u001b[39m(fileobj, \u001b[38;5;124m'\u001b[39m\u001b[38;5;124mname\u001b[39m\u001b[38;5;124m'\u001b[39m, \u001b[38;5;124m'\u001b[39m\u001b[38;5;124m'\u001b[39m)\n",
      "\u001b[0;31mFileNotFoundError\u001b[0m: [Errno 2] No such file or directory: 'TCGA-LUAD.htseq_fpkm.tsv.gz'"
     ]
    }
   ],
   "source": [
    "# Code that creates the lists of genes in cancer and the list of enriched genes in each tissue to extract for testing\n",
    "# Make a list of file paths for each sequencing data\n",
    "# Specify the file path\n",
    "\n",
    "with gzip.open(sequencing, 'rt') as file:\n",
    "    # Read the TSV file into a pandas DataFrame\n",
    "    df = pd.read_csv(file, sep='\\t')\n",
    "#Make a list of file_paths for each tissue\n",
    "\n",
    "# Open the gzip-compressed file and read it with pandas\n",
    "with open(enhanced_genes, 'rt') as file:\n",
    "    # Read the TSV file into a pandas DataFrame\n",
    "    prostate_genes = pd.read_csv(file, sep='\\t')\n",
    "gene_names = prostate_genes['Gene']\n",
    "gene_list = gene_names.tolist()"
   ]
  },
  {
   "cell_type": "code",
   "execution_count": null,
   "id": "575ea6cc",
   "metadata": {},
   "outputs": [],
   "source": [
    "# Function to convert gene names in enriched genes to ensembl\n",
    "def convert_gene_names_to_ensembl(gene_names):\n",
    "    ensembl_ids = []\n",
    "    # Ensembl REST API endpoint for mapping gene names to Ensembl IDs\n",
    "    api_endpoint = \"https://rest.ensembl.org/xrefs/symbol/homo_sapiens/\"\n",
    "    for gene_name in gene_names:\n",
    "        # Make a request to the Ensembl API\n",
    "        response = requests.get(f\"{api_endpoint}{gene_name}?content-type=application/json\")\n",
    "        # Check if the request was successful (status code 200)\n",
    "        if response.status_code == 200:\n",
    "            # Parse the JSON response and extract the Ensembl ID\n",
    "            data = response.json()\n",
    "            if data:\n",
    "                ensembl_id = data[0][\"id\"]\n",
    "                ensembl_ids.append(ensembl_id)\n",
    "            else:\n",
    "                ensembl_ids.append(None)\n",
    "        else:\n",
    "            # If the request was not successful, append None to the list\n",
    "            ensembl_ids.append(None)\n",
    "    return ensembl_ids\n",
    "# Convert gene names to Ensembl IDs\n",
    "ensembl_ids = convert_gene_names_to_ensembl(gene_names)"
   ]
  },
  {
   "cell_type": "code",
   "execution_count": null,
   "id": "396e96f5",
   "metadata": {},
   "outputs": [],
   "source": [
    "#TM function that returns the dataframe \n",
    "def diff_exp(df, ensembl_ids):\n",
    "    genes_in_df = df[\"Ensembl_ID\"].tolist()\n",
    "    genes_in_df_no_decimal = []\n",
    "    for gene in genes_in_df:\n",
    "        genes_in_df_no_decimal.append(gene.split('.')[0])\n",
    "    genes_in_df_no_decimal\n",
    "    df[\"genes\"] = genes_in_df_no_decimal\n",
    "    df = df[df[\"genes\"].isin(ensembl_ids)]\n",
    "    return df"
   ]
  },
  {
   "cell_type": "code",
   "execution_count": null,
   "id": "3116f998",
   "metadata": {},
   "outputs": [],
   "source": [
    "diff_exp(df, ensembl_ids)"
   ]
  }
 ],
 "metadata": {
  "kernelspec": {
   "display_name": "Python 3 (ipykernel)",
   "language": "python",
   "name": "python3"
  },
  "language_info": {
   "codemirror_mode": {
    "name": "ipython",
    "version": 3
   },
   "file_extension": ".py",
   "mimetype": "text/x-python",
   "name": "python",
   "nbconvert_exporter": "python",
   "pygments_lexer": "ipython3",
   "version": "3.11.4"
  }
 },
 "nbformat": 4,
 "nbformat_minor": 5
}
